{
 "cells": [
  {
   "cell_type": "markdown",
   "metadata": {},
   "source": [
    "# Hello World Jupyter Notebook\n",
    "### Author: Adam Weissman\n",
    "### Date: 26 September 2024\n",
    "This is an example Jupyter Notebook to test your development environment for the rest of our Applications in AI course.\n",
    "\n",
    "This notebook will check if you've successfully installed the expected packages we will use throughout this course."
   ]
  },
  {
   "cell_type": "code",
   "execution_count": 9,
   "metadata": {},
   "outputs": [
    {
     "name": "stdout",
     "output_type": "stream",
     "text": [
      "Great job. Your development environment is all set!\n"
     ]
    }
   ],
   "source": [
    "import importlib.util\n",
    " \n",
    "# For illustrative purposes.\n",
    "package_name = ['pandas','sklearn','torch','matplotlib']\n",
    "j = 0\n",
    "\n",
    "for i in range(len(package_name)):\n",
    "    if importlib.util.find_spec(package_name[i]) is None:\n",
    "        print(package_name[i] +\" is not installed\")\n",
    "        j+=1\n",
    "\n",
    "if j==0:\n",
    "    print(\"Great job. Your development environment is all set!\")"
   ]
  }
 ],
 "metadata": {
  "kernelspec": {
   "display_name": "Python 3",
   "language": "python",
   "name": "python3"
  },
  "language_info": {
   "codemirror_mode": {
    "name": "ipython",
    "version": 3
   },
   "file_extension": ".py",
   "mimetype": "text/x-python",
   "name": "python",
   "nbconvert_exporter": "python",
   "pygments_lexer": "ipython3",
   "version": "3.12.5"
  }
 },
 "nbformat": 4,
 "nbformat_minor": 2
}
